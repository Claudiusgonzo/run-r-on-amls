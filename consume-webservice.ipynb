{
 "cells": [
  {
   "cell_type": "markdown",
   "metadata": {},
   "source": [
    "# Python example via REST\n",
    "See [here](https://docs.microsoft.com/en-us/azure/machine-learning/service/how-to-consume-web-service) for more examples in other languages."
   ]
  },
  {
   "cell_type": "code",
   "execution_count": null,
   "metadata": {},
   "outputs": [],
   "source": [
    "import requests\n",
    "import json\n",
    "\n",
    "# set URL and key for the service, set key to None if authentication is disabled\n",
    "scoring_uri = 'http://<add your own address here>/api/v1/service/r-on-aml-service/score'\n",
    "key = '<add your own key here>'\n",
    "\n",
    "# get input data and convert to JSON\n",
    "data = {\"x\": 4711 }\n",
    "input_data = json.dumps(data)\n",
    "\n",
    "# set the content type\n",
    "headers = {'Content-Type': 'application/json'}\n",
    "if key:\n",
    "    headers['Authorization'] = f'Bearer {key}'\n",
    "\n",
    "# make the request and display the response\n",
    "resp = requests.post(scoring_uri, input_data, headers = headers)\n",
    "print(resp.json())"
   ]
  }
 ],
 "metadata": {
  "kernelspec": {
   "display_name": "Python 3",
   "language": "python",
   "name": "python3"
  },
  "language_info": {
   "codemirror_mode": {
    "name": "ipython",
    "version": 3
   },
   "file_extension": ".py",
   "mimetype": "text/x-python",
   "name": "python",
   "nbconvert_exporter": "python",
   "pygments_lexer": "ipython3",
   "version": "3.6.6"
  }
 },
 "nbformat": 4,
 "nbformat_minor": 2
}
