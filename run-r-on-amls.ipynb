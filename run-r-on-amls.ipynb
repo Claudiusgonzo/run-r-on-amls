{
 "cells": [
  {
   "cell_type": "markdown",
   "metadata": {},
   "source": [
    "# Creating and Deploying an R web service with Azure Machine Learning Services\n",
    "This notebook shows the steps required for writing and deploying an Azure Machine Learning Service which runs R code in either ACI (Azure Container Instances) or AKS (Azure Kubernetes Service)."
   ]
  },
  {
   "cell_type": "markdown",
   "metadata": {},
   "source": [
    "# Get workspace\n",
    "Load existing workspace from the config file info. If you have not prepared the config file yet, use the `configuration.ipynb` notebook to create it."
   ]
  },
  {
   "cell_type": "code",
   "execution_count": null,
   "metadata": {},
   "outputs": [],
   "source": [
    "from azureml.core.workspace import Workspace\n",
    "\n",
    "ws = Workspace.from_config()\n",
    "print(ws.name, ws.resource_group, ws.location, ws.subscription_id, sep = '\\n')"
   ]
  },
  {
   "cell_type": "markdown",
   "metadata": {},
   "source": [
    "# Register the model\n",
    "Register an existing trained model, add description and tags."
   ]
  },
  {
   "cell_type": "code",
   "execution_count": null,
   "metadata": {},
   "outputs": [],
   "source": [
    "from azureml.core.model import Model\n",
    "model = Model.register(model_path = \"model.RData\",\n",
    "                       model_name = \"model.RData\",\n",
    "                       tags = {'area': \"samples\", 'type': \"regression\"},\n",
    "                       description = \"A simple linear regression model to show the usage of R in Azure Machine Learning Services.\",\n",
    "                       workspace = ws)\n",
    "\n",
    "print(model.name, model.description, model.version)"
   ]
  },
  {
   "cell_type": "markdown",
   "metadata": {},
   "source": [
    "# Create an image\n",
    "Create an image using the registered model the script that will load and run the model."
   ]
  },
  {
   "cell_type": "code",
   "execution_count": null,
   "metadata": {},
   "outputs": [],
   "source": [
    "%%writefile score.py\n",
    "from azureml.core.model import Model\n",
    "import rpy2.rinterface\n",
    "import rpy2.robjects as robjects\n",
    "\n",
    "def init():\n",
    "    # init rpy2\n",
    "    rpy2.rinterface.initr()\n",
    "    # load model\n",
    "    model_path = Model.get_model_path('model.RData')\n",
    "    robjects.r(\"load('{model_path}')\".format(model_path=model_path))\n",
    "    # run init() function in R (if exists)\n",
    "    robjects.r(\"if (exists('init', mode='function')) { init() }\")\n",
    "\n",
    "def run(input_json_string):\n",
    "    try:\n",
    "        result_vector = robjects.r(\n",
    "                \"run('{input_json_string}')\".format(input_json_string=input_json_string)\n",
    "            )\n",
    "        if len(result_vector) > 0:\n",
    "            return result_vector[0]\n",
    "        else:\n",
    "            return \"\"\n",
    "    except Exception as e:\n",
    "        error = str(e)\n",
    "        return error"
   ]
  },
  {
   "cell_type": "markdown",
   "metadata": {},
   "source": [
    "Define the dependencies required by the scoring script to run.\n",
    "\n",
    "- rpy2 is a package to run R from Python\n",
    "- mro-base is Microsoft's R distribution\n",
    "- r-jsonlite and r-essentials are two conda packages which add the jsonlite package and a few other common packages to our R\n",
    "\n",
    "If you need more packages, you can specify them here - which is the most convenient method. Another option is to install additional packages within the R or Python code (in cases internet connectivity is available) or provide a custom docker image."
   ]
  },
  {
   "cell_type": "code",
   "execution_count": null,
   "metadata": {},
   "outputs": [],
   "source": [
    "from azureml.core.conda_dependencies import CondaDependencies \n",
    "\n",
    "conda_dependencies = CondaDependencies.create(conda_packages=['rpy2', 'mro-base','r-jsonlite','r-essentials'])\n",
    "\n",
    "with open(\"conda_dependencies.yml\",\"w\") as f:\n",
    "    f.write(conda_dependencies.serialize_to_string())"
   ]
  },
  {
   "cell_type": "markdown",
   "metadata": {},
   "source": [
    "Create the image (this might take a while)."
   ]
  },
  {
   "cell_type": "code",
   "execution_count": null,
   "metadata": {},
   "outputs": [],
   "source": [
    "from azureml.core.image import ContainerImage\n",
    "\n",
    "image_config = ContainerImage.image_configuration(execution_script = \"score.py\",\n",
    "                                                  runtime = \"python\",\n",
    "                                                  conda_file = \"conda_dependencies.yml\",\n",
    "                                                  description = \"Sample image to show the usage of R with Azure Machine Learning Services.\",\n",
    "                                                  tags = {'area': \"samples\", 'type': \"regression\"},\n",
    "                                                 )\n",
    "\n",
    "image = ContainerImage.create(name = \"r-on-amls-sample\",\n",
    "                              models = [model],\n",
    "                              image_config = image_config,\n",
    "                              workspace = ws)\n",
    "\n",
    "image.wait_for_creation(show_output = True)"
   ]
  },
  {
   "cell_type": "markdown",
   "metadata": {},
   "source": [
    "# Deployment\n",
    "## Option 1: Deploy to ACI"
   ]
  },
  {
   "cell_type": "markdown",
   "metadata": {},
   "source": [
    "Note: the example shown here for ACI does not use SSL! See the description [here](https://docs.microsoft.com/en-us/azure/machine-learning/service/how-to-secure-web-service) to learn how this can be enabled. Getting SSL to work is easier for AKS clusters (see below)."
   ]
  },
  {
   "cell_type": "code",
   "execution_count": null,
   "metadata": {},
   "outputs": [],
   "source": [
    "from azureml.core.webservice import AciWebservice, Webservice\n",
    "\n",
    "myaci_config = AciWebservice.deploy_configuration(\n",
    "    cpu_cores = 2, \n",
    "    memory_gb = 2,\n",
    "    tags = {'area': \"samples\", 'type': \"regression\"},\n",
    "    description = 'Sample image to show the usage of R with Azure Machine Learning Services.'\n",
    ")\n",
    "\n",
    "service_name = \"r-on-aml-service-aci\"\n",
    "runtime = \"python\" \n",
    "driver_file = \"score.py\"\n",
    "my_conda_file = \"conda_dependencies.yml\"\n",
    "\n",
    "aci_service = Webservice.deploy_from_model(\n",
    "  workspace=ws, \n",
    "  name=service_name,\n",
    "  deployment_config = myaci_config,\n",
    "  models = [model],\n",
    "  image_config = myimage_config\n",
    ")\n",
    "aci_service.wait_for_deployment(show_output=True)\n",
    "\n",
    "print(\"Scoring URI: {}\".format(aci_service.scoring_uri))\n",
    "print(\"Swagger URI: {}\".format(aci_service.swagger_uri))"
   ]
  },
  {
   "cell_type": "markdown",
   "metadata": {},
   "source": [
    "## Option 2: AKS (Kubernetes)\n"
   ]
  },
  {
   "cell_type": "code",
   "execution_count": null,
   "metadata": {},
   "outputs": [],
   "source": [
    "from azureml.core.compute import AksCompute, ComputeTarget\n",
    "from azureml.core.webservice import Webservice, AksWebservice\n",
    "\n",
    "aks_name = 'akscluster'"
   ]
  },
  {
   "cell_type": "markdown",
   "metadata": {},
   "source": [
    "### If not setup yet: Provision the AKS Cluster\n",
    "This is a one time setup. You can reuse this cluster for multiple deployments after it has been created. If you delete the cluster or the resource group that contains it, then you would have to recreate it.\n",
    "\n",
    "The example shows both SSL and non-SSL deployment. Note that the cluster has to be created in the right manner if SSL shall be used. Adding SSL afterwards is not easy - if possible at all.\n",
    "\n",
    "See the included `Create-SelfSignedCertificate.ps1` file for creating self-signed certificates (Windows Powershell/Bash, will be different for Linux/Mac).\n",
    "\n",
    "> Note:\n",
    ">\n",
    "> Self-signed certificates should not be used in production systems. In production systems, proper (and probably paid)\n",
    "> keys and certificates should be used.\n",
    ">\n",
    "> Applications that consume the published webservices may (by design) not behave as intended if self-signed certificates are used."
   ]
  },
  {
   "cell_type": "code",
   "execution_count": null,
   "metadata": {},
   "outputs": [],
   "source": [
    "# non-SSL\n",
    "prov_config = AksCompute.provisioning_configuration()\n",
    "# SSL-enabled\n",
    "#prov_config = AksCompute.provisioning_configuration(\n",
    "#    ssl_cert_pem_file=\"<file with the certificate, eg. certificate_for_amls.pem>\",\n",
    "#    ssl_key_pem_file=\"<file with the key, eg. key_for_amls.pem>\",\n",
    "#    ssl_cname=\"<add the cname from the certificate here>\"\n",
    "#)\n",
    "\n",
    "aks_target = ComputeTarget.create(workspace = ws, \n",
    "                                  name = aks_name, \n",
    "                                  provisioning_configuration = prov_config)"
   ]
  },
  {
   "cell_type": "code",
   "execution_count": null,
   "metadata": {
    "scrolled": true
   },
   "outputs": [],
   "source": [
    "%%time\n",
    "aks_target.wait_for_completion(show_output = True)\n",
    "print(aks_target.provisioning_state)\n",
    "print(aks_target.provisioning_errors)"
   ]
  },
  {
   "cell_type": "markdown",
   "metadata": {},
   "source": [
    "**Further config adjustments NOT TO BE SKIPPED** if SSL/TLS is used"
   ]
  },
  {
   "cell_type": "markdown",
   "metadata": {},
   "source": [
    "Now adjust the clusters DNS settings as described here:\n",
    "https://docs.microsoft.com/en-us/azure/machine-learning/service/how-to-secure-web-service#update-your-dns\n",
    "\n",
    "IMPORTANT: the DNS setting in Azure Portal and the cname in the certificate need to match! "
   ]
  },
  {
   "cell_type": "markdown",
   "metadata": {},
   "source": [
    "### If setup already: Attach existing AKS cluster\n",
    "\n",
    "If you have existing AKS cluster in your Azure subscription, you can attach it to the Workspace."
   ]
  },
  {
   "cell_type": "code",
   "execution_count": null,
   "metadata": {},
   "outputs": [],
   "source": [
    "'''\n",
    "# Use the default configuration (can also provide parameters to customize)\n",
    "resource_id = '/subscriptions/92c76a2f-0e1c-4216-b65e-abf7a3f34c1e/resourcegroups/raymondsdk0604/providers/Microsoft.ContainerService/managedClusters/my-aks-0605d37425356b7d01'\n",
    "\n",
    "create_name='my-existing-aks' \n",
    "# Create the cluster\n",
    "attach_config = AksCompute.attach_configuration(resource_id=resource_id)\n",
    "aks_target = ComputeTarget.attach(workspace=ws, name=create_name, attach_configuration=attach_config)\n",
    "# Wait for the operation to complete\n",
    "aks_target.wait_for_completion(True)\n",
    "'''"
   ]
  },
  {
   "cell_type": "markdown",
   "metadata": {},
   "source": [
    "### Deploy web service to AKS"
   ]
  },
  {
   "cell_type": "code",
   "execution_count": null,
   "metadata": {},
   "outputs": [],
   "source": [
    "aks_target = ComputeTarget(workspace = ws, name = aks_name)\n",
    "aks_config = AksWebservice.deploy_configuration()"
   ]
  },
  {
   "cell_type": "code",
   "execution_count": null,
   "metadata": {
    "scrolled": true
   },
   "outputs": [],
   "source": [
    "%%time\n",
    "aks_service_name ='r-on-aml-service'\n",
    "aks_service = Webservice.deploy_from_image(workspace = ws, \n",
    "                                           name = aks_service_name,\n",
    "                                           image = image,\n",
    "                                           deployment_config = aks_config,\n",
    "                                           deployment_target = aks_target)\n",
    "aks_service.wait_for_deployment(show_output = True)\n",
    "print(aks_service.state)"
   ]
  },
  {
   "cell_type": "code",
   "execution_count": null,
   "metadata": {},
   "outputs": [],
   "source": [
    "print(\"Scoring URI: {}\".format(aks_service.scoring_uri))\n",
    "print(\"Swagger URI: {}\".format(aks_service.swagger_uri))\n",
    "print(\"Keys: {}\".format(aks_service.get_keys()))"
   ]
  },
  {
   "cell_type": "markdown",
   "metadata": {},
   "source": [
    "Note: By default, the deployed service uses HTTP only. To secure your service see and follow the steps described [here](https://docs.microsoft.com/en-us/azure/machine-learning/service/how-to-secure-web-service)."
   ]
  },
  {
   "cell_type": "markdown",
   "metadata": {},
   "source": [
    "# Test the web service\n",
    "We test the web sevice by passing data.\n",
    "\n",
    "Note: the test may fail if you test against a self-signed certificate **which is ok**. See the `consume-webservice.ipynb` notebook for an example how you can circumvent the certificate check."
   ]
  },
  {
   "cell_type": "code",
   "execution_count": null,
   "metadata": {},
   "outputs": [],
   "source": [
    "%%time\n",
    "import json\n",
    "\n",
    "test_sample = json.dumps({'x': 987.654})\n",
    "test_sample = bytes(test_sample,encoding = 'utf8')\n",
    "\n",
    "prediction = aks_service.run(input_data = test_sample)\n",
    "\n",
    "print(prediction)"
   ]
  },
  {
   "cell_type": "markdown",
   "metadata": {},
   "source": [
    "# Clean up\n",
    "Delete the service, image and model."
   ]
  },
  {
   "cell_type": "code",
   "execution_count": null,
   "metadata": {},
   "outputs": [],
   "source": [
    "%%time\n",
    "aks_service.delete()\n",
    "image.delete()\n",
    "model.delete()"
   ]
  }
 ],
 "metadata": {
  "authors": [
   {
    "name": "raymondl"
   }
  ],
  "kernelspec": {
   "display_name": "Python 3",
   "language": "python",
   "name": "python3"
  },
  "language_info": {
   "codemirror_mode": {
    "name": "ipython",
    "version": 3
   },
   "file_extension": ".py",
   "mimetype": "text/x-python",
   "name": "python",
   "nbconvert_exporter": "python",
   "pygments_lexer": "ipython3",
   "version": "3.6.6"
  }
 },
 "nbformat": 4,
 "nbformat_minor": 2
}
