{
 "cells": [
  {
   "cell_type": "markdown",
   "metadata": {},
   "source": [
    "# R web services with Azure Machine Learning Services (not Studio ;-))\n",
    "This notebook shows how to write and deploy a scoring webservice with Azure Machine Learning Services (AMLS) running R code.\n",
    "\n",
    "The underlying scenario is a **scoring** scenario. If your scenario is rather compute-intensive **batch computation**, you might rather wanna use the notebook [here](https://github.com/Azure/MachineLearningNotebooks/blob/master/how-to-use-azureml/training/train-on-amlcompute/train-on-amlcompute.ipynb) as base and adopt some of the ideas contained in this notebook (eg. using rpy2). Similarly, for creating **pipelines**, you can use the samples [here](https://github.com/Azure/MachineLearningNotebooks/tree/master/how-to-use-azureml/machine-learning-pipelines) as base."
   ]
  },
  {
   "cell_type": "markdown",
   "metadata": {},
   "source": [
    "# Get workspace\n",
    "Load existing workspace from the config file info. If you have not prepared the config file yet, use the `configuration.ipynb` notebook from the official [samples repo](https://github.com/Azure/MachineLearningNotebooks) to create it. Alternatively you rewrite the code to instantiate the Workspace instance directly, eg.:\n",
    "*workspace = Workspace(subscription_id=subscription_id, resource_group=resource_group,workspace_name=workspace_name)*"
   ]
  },
  {
   "cell_type": "code",
   "execution_count": null,
   "metadata": {},
   "outputs": [],
   "source": [
    "from azureml.core.workspace import Workspace\n",
    "\n",
    "ws = Workspace.from_config()\n",
    "print(ws.name, ws.resource_group, ws.location, ws.subscription_id, sep = '\\n')"
   ]
  },
  {
   "cell_type": "markdown",
   "metadata": {},
   "source": [
    "# Register the model\n",
    "Register an existing trained model, add description and tags.\n",
    "\n",
    "Note: see the included `create_model.r` file so see how a model could be created."
   ]
  },
  {
   "cell_type": "code",
   "execution_count": null,
   "metadata": {},
   "outputs": [],
   "source": [
    "from azureml.core.model import Model\n",
    "model = Model.register(model_path = \"model.RData\",\n",
    "                       model_name = \"model.RData\",\n",
    "                       tags = {'area': \"samples\", 'type': \"regression\"},\n",
    "                       description = \"A simple linear regression model to show the usage of R in Azure Machine Learning Services.\",\n",
    "                       workspace = ws)\n",
    "\n",
    "print(model.name, model.description, model.version)"
   ]
  },
  {
   "cell_type": "markdown",
   "metadata": {},
   "source": [
    "# Create an image\n",
    "Create an image using\n",
    "- the registered model (created and registered above),\n",
    "- a script that will load and run the model and\n",
    "- all dependencies required by the codes."
   ]
  },
  {
   "cell_type": "code",
   "execution_count": null,
   "metadata": {},
   "outputs": [],
   "source": [
    "%%writefile score.py\n",
    "import json\n",
    "from azureml.core.model import Model\n",
    "import rpy2.rinterface\n",
    "import rpy2.robjects as robjects\n",
    "\n",
    "def init():\n",
    "    # note: this function is run whenever the container is started\n",
    "    # init rpy2\n",
    "    rpy2.rinterface.initr()\n",
    "    # load model\n",
    "    model_path = Model.get_model_path('model.RData')\n",
    "    robjects.r(\"load('{model_path}')\".format(model_path=model_path))\n",
    "    # run init() function in R (if exists)\n",
    "    robjects.r(\"if (exists('init', mode='function')) { init() }\")\n",
    "\n",
    "def run(input_json_string):\n",
    "    # note: this function is run whenever a scoring request has been received\n",
    "    try:\n",
    "        result_vector = robjects.r(\n",
    "                \"run('{input_json_string}')\".format(input_json_string=input_json_string)\n",
    "            )\n",
    "        if len(result_vector) > 0:\n",
    "            try:\n",
    "                return json.loads(result_vector[0])\n",
    "            except ValueError:\n",
    "                return {\"message\": result_vector }\n",
    "    except Exception as e:\n",
    "        error = str(e)\n",
    "        return {\"error\": error }"
   ]
  },
  {
   "cell_type": "markdown",
   "metadata": {},
   "source": [
    "Define the dependencies required by the scoring script to run.\n",
    "\n",
    "- rpy2 is a package to run R from Python\n",
    "- mro-base is Microsoft's R distribution\n",
    "- r-jsonlite and r-essentials are two conda packages which add the jsonlite package and a few other common packages to our R\n",
    "\n",
    "If you need more packages, you can specify them with the conda_packages parameter below - which should be the preferred method.\n",
    "\n",
    "However, if your packages are not available on conda, you can also tell the image_configuration() function below to add some local files or folders to the image (parameter: dependencies) and then install the packages manually by specifying some Docker commands in a file passed to the docker_file parameter. (The files/folders specified by dependencies parameter will be put into /var/azureml-app. The docker_file is run before the conda_packages. Hence you might to install some conda packages on your own if they are required by some commands in docker_file.)\n",
    "\n",
    "Another option would be to install additional packages within the R or Python code (in case the container will be connected to the required network). However in that case you may end up in unnecessary latencies. So installing all dependencies once in the image should always be preferred."
   ]
  },
  {
   "cell_type": "code",
   "execution_count": null,
   "metadata": {},
   "outputs": [],
   "source": [
    "from azureml.core.conda_dependencies import CondaDependencies \n",
    "\n",
    "conda_dependencies = CondaDependencies.create(conda_packages=['rpy2', 'mro-base','r-jsonlite','r-essentials'])\n",
    "\n",
    "with open(\"conda_dependencies.yml\",\"w\") as f:\n",
    "    f.write(conda_dependencies.serialize_to_string())"
   ]
  },
  {
   "cell_type": "markdown",
   "metadata": {},
   "source": [
    "Create the image (this might take a while)."
   ]
  },
  {
   "cell_type": "code",
   "execution_count": null,
   "metadata": {},
   "outputs": [],
   "source": [
    "from azureml.core.image import ContainerImage\n",
    "\n",
    "image_config = ContainerImage.image_configuration(execution_script = \"score.py\",\n",
    "                                                  runtime = \"python\",\n",
    "                                                  conda_file = \"conda_dependencies.yml\",\n",
    "                                                  description = \"Sample image to show the usage of R with Azure Machine Learning Services.\",\n",
    "                                                  tags = {'area': \"samples\", 'type': \"regression\"},\n",
    "                                                 )\n",
    "\n",
    "image = ContainerImage.create(name = \"r-on-amls-sample\",\n",
    "                              models = [model],\n",
    "                              image_config = image_config,\n",
    "                              workspace = ws)\n",
    "\n",
    "image.wait_for_creation(show_output = True)"
   ]
  },
  {
   "cell_type": "markdown",
   "metadata": {},
   "source": [
    "# Deployment\n",
    "\n",
    "There is multiple engines where the image we created before could be deployed to. Select the one which is most appropriate for you.\n",
    "\n",
    "## Option 1: Deploy to ACI"
   ]
  },
  {
   "cell_type": "code",
   "execution_count": null,
   "metadata": {},
   "outputs": [],
   "source": [
    "from azureml.core.webservice import AciWebservice, Webservice\n",
    "\n",
    "myaci_config = AciWebservice.deploy_configuration(\n",
    "    cpu_cores = 2, \n",
    "    memory_gb = 2,\n",
    "    tags = {'area': \"samples\", 'type': \"regression\"},\n",
    "    description = 'Sample image to show the usage of R with Azure Machine Learning Services.'\n",
    ")\n",
    "\n",
    "service_name = \"r-on-aml-service-aci\"\n",
    "runtime = \"python\" \n",
    "driver_file = \"score.py\"\n",
    "my_conda_file = \"conda_dependencies.yml\"\n",
    "\n",
    "aci_service = Webservice.deploy_from_model(\n",
    "  workspace=ws, \n",
    "  name=service_name,\n",
    "  deployment_config = myaci_config,\n",
    "  models = [model],\n",
    "  image_config = myimage_config,\n",
    "  enable_ssl = True\n",
    ")\n",
    "aci_service.wait_for_deployment(show_output=True)\n",
    "\n",
    "print(\"Scoring URI: {}\".format(aci_service.scoring_uri))\n",
    "print(\"Swagger URI: {}\".format(aci_service.swagger_uri))"
   ]
  },
  {
   "cell_type": "markdown",
   "metadata": {},
   "source": [
    "## Option 2: Deploy to AKS (Kubernetes)\n"
   ]
  },
  {
   "cell_type": "code",
   "execution_count": null,
   "metadata": {},
   "outputs": [],
   "source": [
    "from azureml.core.compute import AksCompute, ComputeTarget\n",
    "from azureml.core.webservice import Webservice, AksWebservice\n",
    "\n",
    "aks_cluster_name = \"aks-cluster\"\n",
    "aks_cluster_agent_count = 3\n",
    "aks_cluster_vm_size = \"Standard_D3_v2\"\n",
    "\n",
    "try:\n",
    "    aks_cluster = ComputeTarget(workspace=workspace, name=aks_cluster_name)\n",
    "    print(\"Cluster '{}' exists already.\".format(aks_cluster_name))\n",
    "except ComputeTargetException:\n",
    "    print(\"Cluster '{}' does not exist yet.\".format(aks_cluster_name))\n",
    "    print(\"Creating cluster...\".format(aks_cluster_name))\n",
    "    provisioning_configuration = AksCompute.provisioning_configuration(\n",
    "        agent_count=aks_cluster_agent_count,\n",
    "        vm_size=aks_cluster_vm_size\n",
    "    )\n",
    "    provisioning_configuration.enable_ssl(leaf_domain_label=aks_cluster_name)\n",
    "    aks_cluster = ComputeTarget.create(\n",
    "        workspace=ws,\n",
    "        name=aks_cluster_name,\n",
    "        provisioning_configuration=provisioning_configuration\n",
    "    )\n",
    "    aks_cluster.wait_for_completion(show_output=True)    \n",
    "    print(aks_cluster.provisioning_state)\n",
    "    print(aks_cluster.provisioning_errors)"
   ]
  },
  {
   "cell_type": "code",
   "execution_count": null,
   "metadata": {
    "scrolled": true
   },
   "outputs": [],
   "source": [
    "%%time\n",
    "\n",
    "aks_target = ComputeTarget(workspace = ws, name = aks_cluster_name)\n",
    "aks_config = AksWebservice.deploy_configuration()\n",
    "\n",
    "aks_service_name ='r-on-aml-service'\n",
    "aks_service = Webservice.deploy_from_image(workspace = ws, \n",
    "                                           name = aks_service_name,\n",
    "                                           image = image,\n",
    "                                           deployment_config = aks_config,\n",
    "                                           deployment_target = aks_target)\n",
    "aks_service.wait_for_deployment(show_output = True)\n",
    "print(aks_service.state)"
   ]
  },
  {
   "cell_type": "code",
   "execution_count": null,
   "metadata": {},
   "outputs": [],
   "source": [
    "print(\"Scoring URI: {}\".format(aks_service.scoring_uri))\n",
    "print(\"Swagger URI: {}\".format(aks_service.swagger_uri))\n",
    "print(\"Keys: {}\".format(aks_service.get_keys()))"
   ]
  },
  {
   "cell_type": "markdown",
   "metadata": {},
   "source": [
    "## Option 3: Deploy to Azure Web Apps for Containers\n",
    "\n",
    "This option is currently in preview. See [here](https://docs.microsoft.com/en-us/azure/machine-learning/service/how-to-deploy-app-service) for more details."
   ]
  },
  {
   "cell_type": "markdown",
   "metadata": {},
   "source": [
    "# Test the web service\n",
    "We test the web sevice by passing data."
   ]
  },
  {
   "cell_type": "code",
   "execution_count": null,
   "metadata": {},
   "outputs": [],
   "source": [
    "%%time\n",
    "import json\n",
    "\n",
    "test_sample = json.dumps({'x': 987.654})\n",
    "test_sample = bytes(test_sample,encoding = 'utf8')\n",
    "\n",
    "prediction = aks_service.run(input_data = test_sample)\n",
    "\n",
    "print(prediction)"
   ]
  },
  {
   "cell_type": "markdown",
   "metadata": {},
   "source": [
    "# Clean up\n",
    "Delete the service, image and model."
   ]
  },
  {
   "cell_type": "code",
   "execution_count": null,
   "metadata": {},
   "outputs": [],
   "source": [
    "%%time\n",
    "aks_service.delete()\n",
    "image.delete()\n",
    "model.delete()"
   ]
  }
 ],
 "metadata": {
  "authors": [
   {
    "name": "raymondl"
   }
  ],
  "kernelspec": {
   "display_name": "Python 3",
   "language": "python",
   "name": "python3"
  },
  "language_info": {
   "codemirror_mode": {
    "name": "ipython",
    "version": 3
   },
   "file_extension": ".py",
   "mimetype": "text/x-python",
   "name": "python",
   "nbconvert_exporter": "python",
   "pygments_lexer": "ipython3",
   "version": "3.6.9"
  },
  "toc": {
   "base_numbering": 1,
   "nav_menu": {},
   "number_sections": true,
   "sideBar": true,
   "skip_h1_title": false,
   "title_cell": "Table of Contents",
   "title_sidebar": "Contents",
   "toc_cell": false,
   "toc_position": {},
   "toc_section_display": true,
   "toc_window_display": true
  }
 },
 "nbformat": 4,
 "nbformat_minor": 2
}
